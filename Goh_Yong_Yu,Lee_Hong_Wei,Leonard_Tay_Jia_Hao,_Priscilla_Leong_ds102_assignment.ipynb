{
 "cells": [
  {
   "cell_type": "markdown",
   "metadata": {
    "id": "2CZvR8MFWJnb"
   },
   "source": [
    "## **Project Name**\n",
    "Employment Trend for Fresh University Graduates Post Covid-**19**\n",
    "\n",
    "# **Authors**: \n",
    "         GOH Yong Yu\n",
    "         LEE Hong Wei\n",
    "         LEONG Priscilla \n",
    "         TAY Leonard Jia Hao"
   ]
  },
  {
   "cell_type": "markdown",
   "metadata": {
    "id": "7Dp7Zvk5W-pP"
   },
   "source": [
    "## **I. Problem Statement**\n",
    "With more than 15000 local university students graduating annually, we would like to explore salary and employment trend especially post Covid-19 as Singapore reinvents her economy. The data includes the newer universities such as SUTD and SUSS but excludes all other private universities. \n",
    "\n",
    "Through data exploration we would like to find out the following\n",
    "\n",
    "\n",
    ">1: Employment rate of all local universities over the past years.\n",
    "\n",
    "> 2: Which university is the most highly sought after by employers.\n",
    "\n",
    "\n",
    "\n",
    "\n",
    "\n"
   ]
  },
  {
   "cell_type": "markdown",
   "metadata": {
    "id": "BJokROUTZQ4-"
   },
   "source": [
    "## **II. Dataset and Data Preparation**\n",
    "The Graduate Employment Survey (GES) is jointly conducted by NTU, NUS, SMU, SIT (from 2013), SUTD (from 2015) and SUSS (from 2018) annually to survey the employment conditions of graduates about six months after their final examinations.\n",
    "\n",
    "URL of dataset: https://data.gov.sg/dataset/graduate-employment-survey-ntu-nus-sit-smu-suss-sutd\n",
    "\n",
    "Name of data portal : Data.gov.sg, Govtech SG\n",
    "\n",
    "This CSV dataset regarding graduates employment, which we found from the gov.sg, has a large enough sample **size** to be statistically useful. The survey data ranges from 2013 to 2018 and provide quartile salary ranges, median salary and employment rate from the course work.\n",
    "\n",
    "The 2019 datasets were from the Ministry of Manpower Data on starting salaries of the graduating cohorts from the local publicly-funded institutions of higher learning facilitate the comparison of starting salaries across various courses from the universities\n",
    "\n",
    "https://stats.mom.gov.sg/Pages/Graduate-Starting-Salary-Tables2019.aspx\n",
    "\n",
    "The three datasets were in excel format;\n",
    "Employment and Gross Monthly Starting Salary of University Graduates from NUS, NTU, SMU and SUSS in Full-Time Permanent Employment by Degree, 2019, \n",
    "Employment and Gross Monthly Starting Salary of University Graduates from SUTD in Full-Time Permanent Employment by Degree, 2019 and \n",
    "Employment and Gross Monthly Starting Salary of University Graduates from SIT in Full-Time Permanent Employment by Degree, 2019 \n"
   ]
  },
  {
   "cell_type": "markdown",
   "metadata": {
    "id": "ESpinRKzasCb"
   },
   "source": [
    "## **III. Methodology**\n",
    "\n"
   ]
  },
  {
   "cell_type": "markdown",
   "metadata": {
    "id": "JRvRbNczuYHh"
   },
   "source": [
    "\n",
    "Before any data analysis can be performed, we first read all the source files into pandas dataframe. Then we called up the first five rows of the dataframes to view the column names and understand if the data was categorial or numerical. We proceeded to check the shape of the dataframes, datatypes of the columns in the dataframes, number of null value rows to get a better picture of the volume of data we were dealing with and what data needed cleaning, if any.\n",
    "\n",
    "We have a total of four datasets from four different sources; 2013 - 2018 data from all six local universities, i.e., NUS, NTU, SMU, SUSS, SUTD and SIT and three 2019 data; from NUS, NTU, SMU and SUSS, from SUTD and from SIT.  \n",
    "\n",
    "Upon checking the datatype of the columns in the 2013 - 2018 dataset, it was found that all of the numerical data was in object format. Hence, we had to convert it into float64 in order to carry out aggregation of the data. Some preliminary analysis was performed for this dataset as it had more columns.\n",
    "\n",
    "The data in the remaining three 2019 datasets had only four columns which were similar to the main 2013 - 2018 dataset (12 columns) but column names had to be renamed to be exactly the same as the former since we wanted to eventually create a single dataframe which would contain data from years 2013 - 2019. These three datasets were first concatenated to form a single 2019 dataframe before we created a new column 'year' so that the overall 2019 dataframe columns would match those in the 2013 - 2018 one. \n",
    "\n",
    "All rows with null values in both 2013 - 2018 and 2019 dataframes were dropped separately before they were concatenated into one single dataframe as we did not want to lose information in the main dataframe.\n",
    "\n",
    "Two graphs were plotted; Permanent Employment Rate of Permanent against year and Median Gross Monthly Salary against Year.** "
   ]
  },
  {
   "cell_type": "markdown",
   "metadata": {
    "id": "55X9YXrYuhMF"
   },
   "source": [
    "# **IV. Insights / Evaluation**"
   ]
  },
  {
   "cell_type": "markdown",
   "metadata": {
    "id": "f7eirxj9upt9"
   },
   "source": [
    "Through data exploration we have found out that SMU graduates are highly sought after. With an overall employment rate of more than 94% and the highest gross median salary. The median salary of fresh graduates from local universities have been steadily increasing over the years. In 2019, employment rate has fallen compared to the previous years.\n",
    "\n",
    "In future, a comparison can be made between the local and private universities to compare the differences in salary and employment rate"
   ]
  },
  {
   "cell_type": "markdown",
   "metadata": {
    "id": "79dgu9IS2PIR"
   },
   "source": [
    "# **Import Libraries**"
   ]
  },
  {
   "cell_type": "code",
   "execution_count": null,
   "metadata": {
    "id": "N9bJLnEH2Cgt"
   },
   "outputs": [],
   "source": [
    "import pandas as pd\n",
    "import matplotlib.pyplot as plt\n",
    "import numpy as np"
   ]
  },
  {
   "cell_type": "markdown",
   "metadata": {
    "id": "s00o-GXF2bF_"
   },
   "source": [
    "# **Dataset**\n"
   ]
  },
  {
   "cell_type": "code",
   "execution_count": null,
   "metadata": {
    "colab": {
     "base_uri": "https://localhost:8080/",
     "height": 525
    },
    "id": "X9mTWrw42bXQ",
    "outputId": "50e35fb7-124d-4ace-a6a9-bba59f20cf96"
   },
   "outputs": [
    {
     "data": {
      "text/html": [
       "<div>\n",
       "<style scoped>\n",
       "    .dataframe tbody tr th:only-of-type {\n",
       "        vertical-align: middle;\n",
       "    }\n",
       "\n",
       "    .dataframe tbody tr th {\n",
       "        vertical-align: top;\n",
       "    }\n",
       "\n",
       "    .dataframe thead th {\n",
       "        text-align: right;\n",
       "    }\n",
       "</style>\n",
       "<table border=\"1\" class=\"dataframe\">\n",
       "  <thead>\n",
       "    <tr style=\"text-align: right;\">\n",
       "      <th></th>\n",
       "      <th>year</th>\n",
       "      <th>university</th>\n",
       "      <th>school</th>\n",
       "      <th>degree</th>\n",
       "      <th>employment_rate_overall</th>\n",
       "      <th>employment_rate_ft_perm</th>\n",
       "      <th>basic_monthly_mean</th>\n",
       "      <th>basic_monthly_median</th>\n",
       "      <th>gross_monthly_mean</th>\n",
       "      <th>gross_monthly_median</th>\n",
       "      <th>gross_mthly_25_percentile</th>\n",
       "      <th>gross_mthly_75_percentile</th>\n",
       "    </tr>\n",
       "  </thead>\n",
       "  <tbody>\n",
       "    <tr>\n",
       "      <th>0</th>\n",
       "      <td>2013</td>\n",
       "      <td>Nanyang Technological University</td>\n",
       "      <td>College of Business (Nanyang Business School)</td>\n",
       "      <td>Accountancy and Business</td>\n",
       "      <td>97.4</td>\n",
       "      <td>96.1</td>\n",
       "      <td>3701</td>\n",
       "      <td>3200</td>\n",
       "      <td>3727</td>\n",
       "      <td>3350</td>\n",
       "      <td>2900</td>\n",
       "      <td>4000</td>\n",
       "    </tr>\n",
       "    <tr>\n",
       "      <th>1</th>\n",
       "      <td>2013</td>\n",
       "      <td>Nanyang Technological University</td>\n",
       "      <td>College of Business (Nanyang Business School)</td>\n",
       "      <td>Accountancy (3-yr direct Honours Programme)</td>\n",
       "      <td>97.1</td>\n",
       "      <td>95.7</td>\n",
       "      <td>2850</td>\n",
       "      <td>2700</td>\n",
       "      <td>2938</td>\n",
       "      <td>2700</td>\n",
       "      <td>2700</td>\n",
       "      <td>2900</td>\n",
       "    </tr>\n",
       "    <tr>\n",
       "      <th>2</th>\n",
       "      <td>2013</td>\n",
       "      <td>Nanyang Technological University</td>\n",
       "      <td>College of Business (Nanyang Business School)</td>\n",
       "      <td>Business (3-yr direct Honours Programme)</td>\n",
       "      <td>90.9</td>\n",
       "      <td>85.7</td>\n",
       "      <td>3053</td>\n",
       "      <td>3000</td>\n",
       "      <td>3214</td>\n",
       "      <td>3000</td>\n",
       "      <td>2700</td>\n",
       "      <td>3500</td>\n",
       "    </tr>\n",
       "    <tr>\n",
       "      <th>3</th>\n",
       "      <td>2013</td>\n",
       "      <td>Nanyang Technological University</td>\n",
       "      <td>College of Business (Nanyang Business School)</td>\n",
       "      <td>Business and Computing</td>\n",
       "      <td>87.5</td>\n",
       "      <td>87.5</td>\n",
       "      <td>3557</td>\n",
       "      <td>3400</td>\n",
       "      <td>3615</td>\n",
       "      <td>3400</td>\n",
       "      <td>3000</td>\n",
       "      <td>4100</td>\n",
       "    </tr>\n",
       "    <tr>\n",
       "      <th>4</th>\n",
       "      <td>2013</td>\n",
       "      <td>Nanyang Technological University</td>\n",
       "      <td>College of Engineering</td>\n",
       "      <td>Aerospace Engineering</td>\n",
       "      <td>95.3</td>\n",
       "      <td>95.3</td>\n",
       "      <td>3494</td>\n",
       "      <td>3500</td>\n",
       "      <td>3536</td>\n",
       "      <td>3500</td>\n",
       "      <td>3100</td>\n",
       "      <td>3816</td>\n",
       "    </tr>\n",
       "  </tbody>\n",
       "</table>\n",
       "</div>"
      ],
      "text/plain": [
       "   year  ... gross_mthly_75_percentile\n",
       "0  2013  ...                      4000\n",
       "1  2013  ...                      2900\n",
       "2  2013  ...                      3500\n",
       "3  2013  ...                      4100\n",
       "4  2013  ...                      3816\n",
       "\n",
       "[5 rows x 12 columns]"
      ]
     },
     "execution_count": 2,
     "metadata": {
      "tags": []
     },
     "output_type": "execute_result"
    }
   ],
   "source": [
    "df = pd.read_csv('graduate-employment-survey-ntu-nus-sit-smu-suss-sutd.csv', encoding='latin1', engine = 'python')\n",
    "df.head()"
   ]
  },
  {
   "cell_type": "code",
   "execution_count": null,
   "metadata": {
    "colab": {
     "base_uri": "https://localhost:8080/",
     "height": 263
    },
    "id": "5Cs8CZGPcS67",
    "outputId": "a9a6524b-c628-445e-8675-ed5c29692cee"
   },
   "outputs": [
    {
     "data": {
      "text/plain": [
       "year                          int64\n",
       "university                   object\n",
       "school                       object\n",
       "degree                       object\n",
       "employment_rate_overall      object\n",
       "employment_rate_ft_perm      object\n",
       "basic_monthly_mean           object\n",
       "basic_monthly_median         object\n",
       "gross_monthly_mean           object\n",
       "gross_monthly_median         object\n",
       "gross_mthly_25_percentile    object\n",
       "gross_mthly_75_percentile    object\n",
       "dtype: object"
      ]
     },
     "metadata": {
      "tags": []
     },
     "output_type": "display_data"
    },
    {
     "name": "stdout",
     "output_type": "stream",
     "text": [
      "Number of rows and columns (703, 12)\n"
     ]
    }
   ],
   "source": [
    "display(df.dtypes)\n",
    "print('Number of rows and columns', df.shape)"
   ]
  },
  {
   "cell_type": "markdown",
   "metadata": {
    "id": "ytdNElHghG_V"
   },
   "source": [
    "# **Converting Data Types for futher analysis**"
   ]
  },
  {
   "cell_type": "code",
   "execution_count": null,
   "metadata": {
    "colab": {
     "base_uri": "https://localhost:8080/",
     "height": 245
    },
    "id": "TJTfrm0MhMpY",
    "outputId": "e651ae75-c37d-4d7f-f173-144f523b6bb7"
   },
   "outputs": [
    {
     "data": {
      "text/plain": [
       "year                           int64\n",
       "university                    object\n",
       "school                        object\n",
       "degree                        object\n",
       "employment_rate_overall      float64\n",
       "employment_rate_ft_perm      float64\n",
       "basic_monthly_mean           float64\n",
       "basic_monthly_median         float64\n",
       "gross_monthly_mean           float64\n",
       "gross_monthly_median         float64\n",
       "gross_mthly_25_percentile    float64\n",
       "gross_mthly_75_percentile    float64\n",
       "dtype: object"
      ]
     },
     "execution_count": 4,
     "metadata": {
      "tags": []
     },
     "output_type": "execute_result"
    }
   ],
   "source": [
    "columns_to_select = ['employment_rate_overall', 'employment_rate_ft_perm', 'gross_monthly_median',\\\n",
    "                     'gross_mthly_25_percentile', 'gross_mthly_75_percentile', 'basic_monthly_mean',\\\n",
    "                     'basic_monthly_median', 'gross_monthly_mean']\n",
    "df[columns_to_select] = df[columns_to_select].apply(pd.to_numeric, errors='coerce', axis=1)\n",
    "df.dtypes"
   ]
  },
  {
   "cell_type": "code",
   "execution_count": null,
   "metadata": {
    "colab": {
     "base_uri": "https://localhost:8080/",
     "height": 245
    },
    "id": "b_5MRLhJgTmS",
    "outputId": "6e4c12fb-349d-456b-cefa-30b378ff8cb8"
   },
   "outputs": [
    {
     "data": {
      "text/plain": [
       "year                          0\n",
       "university                    0\n",
       "school                        0\n",
       "degree                        0\n",
       "employment_rate_overall      73\n",
       "employment_rate_ft_perm      73\n",
       "basic_monthly_mean           73\n",
       "basic_monthly_median         73\n",
       "gross_monthly_mean           73\n",
       "gross_monthly_median         73\n",
       "gross_mthly_25_percentile    73\n",
       "gross_mthly_75_percentile    73\n",
       "dtype: int64"
      ]
     },
     "execution_count": 5,
     "metadata": {
      "tags": []
     },
     "output_type": "execute_result"
    }
   ],
   "source": [
    "df.isnull().sum()"
   ]
  },
  {
   "cell_type": "code",
   "execution_count": null,
   "metadata": {
    "colab": {
     "base_uri": "https://localhost:8080/",
     "height": 290
    },
    "id": "iG7qd8_Fcn3R",
    "outputId": "dd8b27ef-e88f-41be-b92a-4502d5ce338f"
   },
   "outputs": [
    {
     "data": {
      "text/html": [
       "<div>\n",
       "<style scoped>\n",
       "    .dataframe tbody tr th:only-of-type {\n",
       "        vertical-align: middle;\n",
       "    }\n",
       "\n",
       "    .dataframe tbody tr th {\n",
       "        vertical-align: top;\n",
       "    }\n",
       "\n",
       "    .dataframe thead th {\n",
       "        text-align: right;\n",
       "    }\n",
       "</style>\n",
       "<table border=\"1\" class=\"dataframe\">\n",
       "  <thead>\n",
       "    <tr style=\"text-align: right;\">\n",
       "      <th></th>\n",
       "      <th>employment_rate_overall</th>\n",
       "      <th>employment_rate_ft_perm</th>\n",
       "      <th>gross_monthly_median</th>\n",
       "    </tr>\n",
       "  </thead>\n",
       "  <tbody>\n",
       "    <tr>\n",
       "      <th>count</th>\n",
       "      <td>630.000000</td>\n",
       "      <td>630.000000</td>\n",
       "      <td>630.000000</td>\n",
       "    </tr>\n",
       "    <tr>\n",
       "      <th>mean</th>\n",
       "      <td>90.544921</td>\n",
       "      <td>82.673968</td>\n",
       "      <td>3380.304762</td>\n",
       "    </tr>\n",
       "    <tr>\n",
       "      <th>std</th>\n",
       "      <td>6.911726</td>\n",
       "      <td>13.405332</td>\n",
       "      <td>507.325954</td>\n",
       "    </tr>\n",
       "    <tr>\n",
       "      <th>min</th>\n",
       "      <td>66.700000</td>\n",
       "      <td>14.300000</td>\n",
       "      <td>1800.000000</td>\n",
       "    </tr>\n",
       "    <tr>\n",
       "      <th>25%</th>\n",
       "      <td>86.025000</td>\n",
       "      <td>74.750000</td>\n",
       "      <td>3085.750000</td>\n",
       "    </tr>\n",
       "    <tr>\n",
       "      <th>50%</th>\n",
       "      <td>91.300000</td>\n",
       "      <td>85.600000</td>\n",
       "      <td>3300.000000</td>\n",
       "    </tr>\n",
       "    <tr>\n",
       "      <th>75%</th>\n",
       "      <td>96.200000</td>\n",
       "      <td>93.075000</td>\n",
       "      <td>3533.250000</td>\n",
       "    </tr>\n",
       "    <tr>\n",
       "      <th>max</th>\n",
       "      <td>100.000000</td>\n",
       "      <td>100.000000</td>\n",
       "      <td>5800.000000</td>\n",
       "    </tr>\n",
       "  </tbody>\n",
       "</table>\n",
       "</div>"
      ],
      "text/plain": [
       "       employment_rate_overall  employment_rate_ft_perm  gross_monthly_median\n",
       "count               630.000000               630.000000            630.000000\n",
       "mean                 90.544921                82.673968           3380.304762\n",
       "std                   6.911726                13.405332            507.325954\n",
       "min                  66.700000                14.300000           1800.000000\n",
       "25%                  86.025000                74.750000           3085.750000\n",
       "50%                  91.300000                85.600000           3300.000000\n",
       "75%                  96.200000                93.075000           3533.250000\n",
       "max                 100.000000               100.000000           5800.000000"
      ]
     },
     "execution_count": 6,
     "metadata": {
      "tags": []
     },
     "output_type": "execute_result"
    }
   ],
   "source": [
    "columns_to_select = ['employment_rate_overall', 'employment_rate_ft_perm', 'gross_monthly_median']\n",
    "overall_df = df[columns_to_select]\n",
    "overall_df.describe(include='all')"
   ]
  },
  {
   "cell_type": "markdown",
   "metadata": {
    "id": "_iLugohZpC1Z"
   },
   "source": [
    "From this we are able to see the descriptive statistics for all of the fresh graduates surveyed. Overall 90.5% of the fresh graduates are able to find employment within 6 months after graduation with 82.6% being employed as a permanent employee. The median gross salary across all schools and courses is $3380"
   ]
  },
  {
   "cell_type": "markdown",
   "metadata": {
    "id": "cbk1JHgPtZpM"
   },
   "source": [
    "# Statistics & Observations"
   ]
  },
  {
   "cell_type": "code",
   "execution_count": null,
   "metadata": {
    "colab": {
     "base_uri": "https://localhost:8080/",
     "height": 34
    },
    "id": "TJgEEZ7MtjCO",
    "outputId": "b8d83282-73e7-4c8f-8a10-61980dbc3b02"
   },
   "outputs": [
    {
     "data": {
      "text/plain": [
       "(630, 12)"
      ]
     },
     "execution_count": 7,
     "metadata": {
      "tags": []
     },
     "output_type": "execute_result"
    }
   ],
   "source": [
    "#Keeping only the rows that contail non-null values in a new temporary dataframe called 'null_removed_df'\n",
    "\n",
    "null_removed_df = df.dropna()\n",
    "null_removed_df.shape\n",
    "#null_removed_df.isnull().sum()"
   ]
  },
  {
   "cell_type": "code",
   "execution_count": null,
   "metadata": {
    "colab": {
     "base_uri": "https://localhost:8080/",
     "height": 413
    },
    "id": "eL-5-u4wtpBh",
    "outputId": "462c29d6-3986-4439-cb76-e8e78e4c480f"
   },
   "outputs": [
    {
     "data": {
      "text/html": [
       "<div>\n",
       "<style scoped>\n",
       "    .dataframe tbody tr th:only-of-type {\n",
       "        vertical-align: middle;\n",
       "    }\n",
       "\n",
       "    .dataframe tbody tr th {\n",
       "        vertical-align: top;\n",
       "    }\n",
       "\n",
       "    .dataframe thead th {\n",
       "        text-align: right;\n",
       "    }\n",
       "</style>\n",
       "<table border=\"1\" class=\"dataframe\">\n",
       "  <thead>\n",
       "    <tr style=\"text-align: right;\">\n",
       "      <th></th>\n",
       "      <th>count</th>\n",
       "      <th>mean</th>\n",
       "      <th>std</th>\n",
       "      <th>min</th>\n",
       "      <th>25%</th>\n",
       "      <th>50%</th>\n",
       "      <th>75%</th>\n",
       "      <th>max</th>\n",
       "    </tr>\n",
       "    <tr>\n",
       "      <th>university</th>\n",
       "      <th></th>\n",
       "      <th></th>\n",
       "      <th></th>\n",
       "      <th></th>\n",
       "      <th></th>\n",
       "      <th></th>\n",
       "      <th></th>\n",
       "      <th></th>\n",
       "    </tr>\n",
       "  </thead>\n",
       "  <tbody>\n",
       "    <tr>\n",
       "      <th>Nanyang Technological University</th>\n",
       "      <td>204.0</td>\n",
       "      <td>87.832353</td>\n",
       "      <td>7.484140</td>\n",
       "      <td>66.7</td>\n",
       "      <td>82.025</td>\n",
       "      <td>88.00</td>\n",
       "      <td>93.225</td>\n",
       "      <td>100.0</td>\n",
       "    </tr>\n",
       "    <tr>\n",
       "      <th>National University of Singapore</th>\n",
       "      <td>207.0</td>\n",
       "      <td>91.043961</td>\n",
       "      <td>6.419278</td>\n",
       "      <td>71.9</td>\n",
       "      <td>87.150</td>\n",
       "      <td>91.70</td>\n",
       "      <td>96.450</td>\n",
       "      <td>100.0</td>\n",
       "    </tr>\n",
       "    <tr>\n",
       "      <th>Singapore Institute of Technology</th>\n",
       "      <td>135.0</td>\n",
       "      <td>91.680000</td>\n",
       "      <td>6.663442</td>\n",
       "      <td>72.2</td>\n",
       "      <td>86.850</td>\n",
       "      <td>92.30</td>\n",
       "      <td>97.000</td>\n",
       "      <td>100.0</td>\n",
       "    </tr>\n",
       "    <tr>\n",
       "      <th>Singapore Management University</th>\n",
       "      <td>72.0</td>\n",
       "      <td>94.480556</td>\n",
       "      <td>3.731353</td>\n",
       "      <td>84.2</td>\n",
       "      <td>92.200</td>\n",
       "      <td>94.85</td>\n",
       "      <td>97.425</td>\n",
       "      <td>100.0</td>\n",
       "    </tr>\n",
       "    <tr>\n",
       "      <th>Singapore University of Social Sciences</th>\n",
       "      <td>3.0</td>\n",
       "      <td>93.566667</td>\n",
       "      <td>5.363146</td>\n",
       "      <td>88.0</td>\n",
       "      <td>91.000</td>\n",
       "      <td>94.00</td>\n",
       "      <td>96.350</td>\n",
       "      <td>98.7</td>\n",
       "    </tr>\n",
       "    <tr>\n",
       "      <th>Singapore University of Technology and Design</th>\n",
       "      <td>9.0</td>\n",
       "      <td>91.033333</td>\n",
       "      <td>6.346653</td>\n",
       "      <td>80.3</td>\n",
       "      <td>87.000</td>\n",
       "      <td>91.70</td>\n",
       "      <td>92.500</td>\n",
       "      <td>100.0</td>\n",
       "    </tr>\n",
       "  </tbody>\n",
       "</table>\n",
       "</div>"
      ],
      "text/plain": [
       "                                               count       mean  ...     75%    max\n",
       "university                                                       ...               \n",
       "Nanyang Technological University               204.0  87.832353  ...  93.225  100.0\n",
       "National University of Singapore               207.0  91.043961  ...  96.450  100.0\n",
       "Singapore Institute of Technology              135.0  91.680000  ...  97.000  100.0\n",
       "Singapore Management University                 72.0  94.480556  ...  97.425  100.0\n",
       "Singapore University of Social Sciences          3.0  93.566667  ...  96.350   98.7\n",
       "Singapore University of Technology and Design    9.0  91.033333  ...  92.500  100.0\n",
       "\n",
       "[6 rows x 8 columns]"
      ]
     },
     "execution_count": 8,
     "metadata": {
      "tags": []
     },
     "output_type": "execute_result"
    }
   ],
   "source": [
    "#Statistics for each university's employment rate\n",
    "null_removed_groupby_university = null_removed_df.groupby(['university'])\n",
    "null_removed_groupby_university['employment_rate_overall'].describe(include='all')"
   ]
  },
  {
   "cell_type": "markdown",
   "metadata": {
    "id": "OvUDmSH7trOu"
   },
   "source": [
    "Comparing the statistics from each university, we can easily observe that Singapore Management University has the highest average employment rate across all it's faculties.\n"
   ]
  },
  {
   "cell_type": "code",
   "execution_count": null,
   "metadata": {
    "colab": {
     "base_uri": "https://localhost:8080/",
     "height": 517
    },
    "id": "ewEwIgW6uDv7",
    "outputId": "508ab860-0a98-4425-b0fe-10bc8d075b16"
   },
   "outputs": [
    {
     "data": {
      "text/html": [
       "<div>\n",
       "<style scoped>\n",
       "    .dataframe tbody tr th:only-of-type {\n",
       "        vertical-align: middle;\n",
       "    }\n",
       "\n",
       "    .dataframe tbody tr th {\n",
       "        vertical-align: top;\n",
       "    }\n",
       "\n",
       "    .dataframe thead th {\n",
       "        text-align: right;\n",
       "    }\n",
       "</style>\n",
       "<table border=\"1\" class=\"dataframe\">\n",
       "  <thead>\n",
       "    <tr style=\"text-align: right;\">\n",
       "      <th></th>\n",
       "      <th>count</th>\n",
       "      <th>mean</th>\n",
       "      <th>std</th>\n",
       "      <th>min</th>\n",
       "      <th>25%</th>\n",
       "      <th>50%</th>\n",
       "      <th>75%</th>\n",
       "      <th>max</th>\n",
       "    </tr>\n",
       "    <tr>\n",
       "      <th>university</th>\n",
       "      <th></th>\n",
       "      <th></th>\n",
       "      <th></th>\n",
       "      <th></th>\n",
       "      <th></th>\n",
       "      <th></th>\n",
       "      <th></th>\n",
       "      <th></th>\n",
       "    </tr>\n",
       "  </thead>\n",
       "  <tbody>\n",
       "    <tr>\n",
       "      <th>Nanyang Technological University</th>\n",
       "      <td>204.0</td>\n",
       "      <td>3393.813725</td>\n",
       "      <td>347.356895</td>\n",
       "      <td>2577.0</td>\n",
       "      <td>3171.25</td>\n",
       "      <td>3370.5</td>\n",
       "      <td>3577.00</td>\n",
       "      <td>5225.0</td>\n",
       "    </tr>\n",
       "    <tr>\n",
       "      <th>National University of Singapore</th>\n",
       "      <td>207.0</td>\n",
       "      <td>3586.536232</td>\n",
       "      <td>540.795896</td>\n",
       "      <td>2100.0</td>\n",
       "      <td>3281.50</td>\n",
       "      <td>3435.0</td>\n",
       "      <td>3819.50</td>\n",
       "      <td>5263.0</td>\n",
       "    </tr>\n",
       "    <tr>\n",
       "      <th>Singapore Institute of Technology</th>\n",
       "      <td>135.0</td>\n",
       "      <td>3264.407407</td>\n",
       "      <td>384.181943</td>\n",
       "      <td>2344.0</td>\n",
       "      <td>2962.50</td>\n",
       "      <td>3301.0</td>\n",
       "      <td>3485.00</td>\n",
       "      <td>4131.0</td>\n",
       "    </tr>\n",
       "    <tr>\n",
       "      <th>Singapore Management University</th>\n",
       "      <td>72.0</td>\n",
       "      <td>4097.069444</td>\n",
       "      <td>624.894297</td>\n",
       "      <td>3150.0</td>\n",
       "      <td>3610.00</td>\n",
       "      <td>3944.5</td>\n",
       "      <td>4455.25</td>\n",
       "      <td>5617.0</td>\n",
       "    </tr>\n",
       "    <tr>\n",
       "      <th>Singapore University of Social Sciences</th>\n",
       "      <td>3.0</td>\n",
       "      <td>3098.333333</td>\n",
       "      <td>265.151529</td>\n",
       "      <td>2879.0</td>\n",
       "      <td>2951.00</td>\n",
       "      <td>3023.0</td>\n",
       "      <td>3208.00</td>\n",
       "      <td>3393.0</td>\n",
       "    </tr>\n",
       "    <tr>\n",
       "      <th>Singapore University of Technology and Design</th>\n",
       "      <td>9.0</td>\n",
       "      <td>3866.777778</td>\n",
       "      <td>231.946534</td>\n",
       "      <td>3565.0</td>\n",
       "      <td>3690.00</td>\n",
       "      <td>3830.0</td>\n",
       "      <td>3956.00</td>\n",
       "      <td>4232.0</td>\n",
       "    </tr>\n",
       "  </tbody>\n",
       "</table>\n",
       "</div>"
      ],
      "text/plain": [
       "                                               count  ...     max\n",
       "university                                            ...        \n",
       "Nanyang Technological University               204.0  ...  5225.0\n",
       "National University of Singapore               207.0  ...  5263.0\n",
       "Singapore Institute of Technology              135.0  ...  4131.0\n",
       "Singapore Management University                 72.0  ...  5617.0\n",
       "Singapore University of Social Sciences          3.0  ...  3393.0\n",
       "Singapore University of Technology and Design    9.0  ...  4232.0\n",
       "\n",
       "[6 rows x 8 columns]"
      ]
     },
     "execution_count": 9,
     "metadata": {
      "tags": []
     },
     "output_type": "execute_result"
    }
   ],
   "source": [
    "#Statistics for each university's gross monthly mean salary\n",
    "null_removed_groupby_university['gross_monthly_mean'].describe(include='all')"
   ]
  },
  {
   "cell_type": "markdown",
   "metadata": {
    "id": "r1XDHZOJuFro"
   },
   "source": [
    "Comparing the statistics from each university, we can easily observe that on average, Singapore Management University graduates receive the highest salary across all it's faculties."
   ]
  },
  {
   "cell_type": "markdown",
   "metadata": {
    "id": "redNor-p_TmL"
   },
   "source": [
    "# Merging 2019 data into DataFrame"
   ]
  },
  {
   "cell_type": "code",
   "execution_count": null,
   "metadata": {
    "colab": {
     "base_uri": "https://localhost:8080/",
     "height": 525
    },
    "id": "egmtRP7qRmLM",
    "outputId": "bc69b0a0-de5a-47aa-a349-0dd1b74c1e23"
   },
   "outputs": [
    {
     "data": {
      "text/html": [
       "<div>\n",
       "<style scoped>\n",
       "    .dataframe tbody tr th:only-of-type {\n",
       "        vertical-align: middle;\n",
       "    }\n",
       "\n",
       "    .dataframe tbody tr th {\n",
       "        vertical-align: top;\n",
       "    }\n",
       "\n",
       "    .dataframe thead th {\n",
       "        text-align: right;\n",
       "    }\n",
       "</style>\n",
       "<table border=\"1\" class=\"dataframe\">\n",
       "  <thead>\n",
       "    <tr style=\"text-align: right;\">\n",
       "      <th></th>\n",
       "      <th>Course Duration</th>\n",
       "      <th>Course Cluster</th>\n",
       "      <th>Degree</th>\n",
       "      <th>Abbreviation</th>\n",
       "      <th>Universities conducting the courses</th>\n",
       "      <th>Employment Rate (%)</th>\n",
       "      <th>Median Monthly Gross Starting Salary ($)</th>\n",
       "    </tr>\n",
       "  </thead>\n",
       "  <tbody>\n",
       "    <tr>\n",
       "      <th>0</th>\n",
       "      <td>4-year</td>\n",
       "      <td>ARTS, DESIGN &amp; MEDIA</td>\n",
       "      <td>Bachelor of Arts (Honours)</td>\n",
       "      <td>B.A.(H)</td>\n",
       "      <td>NUS</td>\n",
       "      <td>68.2</td>\n",
       "      <td>3500.0</td>\n",
       "    </tr>\n",
       "    <tr>\n",
       "      <th>1</th>\n",
       "      <td>NaN</td>\n",
       "      <td>NaN</td>\n",
       "      <td>Bachelor of Communication Studies (Honours)</td>\n",
       "      <td>B.Comm.Studies (H)</td>\n",
       "      <td>NTU</td>\n",
       "      <td>69.4</td>\n",
       "      <td>3200.0</td>\n",
       "    </tr>\n",
       "    <tr>\n",
       "      <th>2</th>\n",
       "      <td>NaN</td>\n",
       "      <td>NaN</td>\n",
       "      <td>Bachelor of Fine Arts (Arts, Design &amp; Media)</td>\n",
       "      <td>B.F.A.</td>\n",
       "      <td>NTU</td>\n",
       "      <td>50.9</td>\n",
       "      <td>3000.0</td>\n",
       "    </tr>\n",
       "    <tr>\n",
       "      <th>3</th>\n",
       "      <td>NaN</td>\n",
       "      <td>BUILT ENVIRONMENT</td>\n",
       "      <td>Bachelor of Science (Project &amp; Facilities Mana...</td>\n",
       "      <td>B.Sc.(Proj &amp; FM)</td>\n",
       "      <td>NUS</td>\n",
       "      <td>80.6</td>\n",
       "      <td>3155.0</td>\n",
       "    </tr>\n",
       "    <tr>\n",
       "      <th>4</th>\n",
       "      <td>NaN</td>\n",
       "      <td>NaN</td>\n",
       "      <td>Bachelor of Science (Real Estate)</td>\n",
       "      <td>B.Sc.(RE)</td>\n",
       "      <td>NUS</td>\n",
       "      <td>89.6</td>\n",
       "      <td>3400.0</td>\n",
       "    </tr>\n",
       "  </tbody>\n",
       "</table>\n",
       "</div>"
      ],
      "text/plain": [
       "  Course Duration  ... Median Monthly Gross Starting Salary ($)\n",
       "0          4-year  ...                                   3500.0\n",
       "1             NaN  ...                                   3200.0\n",
       "2             NaN  ...                                   3000.0\n",
       "3             NaN  ...                                   3155.0\n",
       "4             NaN  ...                                   3400.0\n",
       "\n",
       "[5 rows x 7 columns]"
      ]
     },
     "execution_count": 13,
     "metadata": {
      "tags": []
     },
     "output_type": "execute_result"
    }
   ],
   "source": [
    "import numpy as np\n",
    "import pandas as pd\n",
    "result_2019 = pd.read_excel('EMPT_011_Monthly_Gross_Starting_Salary_of_Graduates.xls', skiprows = 1, header = 1)\n",
    "result_2019.head()"
   ]
  },
  {
   "cell_type": "code",
   "execution_count": null,
   "metadata": {
    "colab": {
     "base_uri": "https://localhost:8080/",
     "height": 352
    },
    "id": "d0BY8SP7FHff",
    "outputId": "19e450eb-596f-4cfa-c8a9-e2cd0722e759"
   },
   "outputs": [
    {
     "data": {
      "text/html": [
       "<div>\n",
       "<style scoped>\n",
       "    .dataframe tbody tr th:only-of-type {\n",
       "        vertical-align: middle;\n",
       "    }\n",
       "\n",
       "    .dataframe tbody tr th {\n",
       "        vertical-align: top;\n",
       "    }\n",
       "\n",
       "    .dataframe thead th {\n",
       "        text-align: right;\n",
       "    }\n",
       "</style>\n",
       "<table border=\"1\" class=\"dataframe\">\n",
       "  <thead>\n",
       "    <tr style=\"text-align: right;\">\n",
       "      <th></th>\n",
       "      <th>Degree</th>\n",
       "      <th>Universities conducting the courses</th>\n",
       "      <th>Employment Rate (%)</th>\n",
       "      <th>Median Monthly Gross Starting Salary ($)</th>\n",
       "    </tr>\n",
       "  </thead>\n",
       "  <tbody>\n",
       "    <tr>\n",
       "      <th>0</th>\n",
       "      <td>Bachelor of Arts (Honours)</td>\n",
       "      <td>NUS</td>\n",
       "      <td>68.2</td>\n",
       "      <td>3500.0</td>\n",
       "    </tr>\n",
       "    <tr>\n",
       "      <th>1</th>\n",
       "      <td>Bachelor of Communication Studies (Honours)</td>\n",
       "      <td>NTU</td>\n",
       "      <td>69.4</td>\n",
       "      <td>3200.0</td>\n",
       "    </tr>\n",
       "    <tr>\n",
       "      <th>2</th>\n",
       "      <td>Bachelor of Fine Arts (Arts, Design &amp; Media)</td>\n",
       "      <td>NTU</td>\n",
       "      <td>50.9</td>\n",
       "      <td>3000.0</td>\n",
       "    </tr>\n",
       "    <tr>\n",
       "      <th>3</th>\n",
       "      <td>Bachelor of Science (Project &amp; Facilities Mana...</td>\n",
       "      <td>NUS</td>\n",
       "      <td>80.6</td>\n",
       "      <td>3155.0</td>\n",
       "    </tr>\n",
       "    <tr>\n",
       "      <th>4</th>\n",
       "      <td>Bachelor of Science (Real Estate)</td>\n",
       "      <td>NUS</td>\n",
       "      <td>89.6</td>\n",
       "      <td>3400.0</td>\n",
       "    </tr>\n",
       "  </tbody>\n",
       "</table>\n",
       "</div>"
      ],
      "text/plain": [
       "                                              Degree  ... Median Monthly Gross Starting Salary ($)\n",
       "0                         Bachelor of Arts (Honours)  ...                                   3500.0\n",
       "1        Bachelor of Communication Studies (Honours)  ...                                   3200.0\n",
       "2       Bachelor of Fine Arts (Arts, Design & Media)  ...                                   3000.0\n",
       "3  Bachelor of Science (Project & Facilities Mana...  ...                                   3155.0\n",
       "4                  Bachelor of Science (Real Estate)  ...                                   3400.0\n",
       "\n",
       "[5 rows x 4 columns]"
      ]
     },
     "execution_count": 14,
     "metadata": {
      "tags": []
     },
     "output_type": "execute_result"
    }
   ],
   "source": [
    "relevant_2019 = result_2019[['Degree', 'Universities conducting the courses', 'Employment Rate (%)', 'Median Monthly Gross Starting Salary ($)']].copy()\n",
    "relevant_2019.head()"
   ]
  },
  {
   "cell_type": "code",
   "execution_count": null,
   "metadata": {
    "colab": {
     "base_uri": "https://localhost:8080/",
     "height": 34
    },
    "id": "NKpXf3IPO0IX",
    "outputId": "7e4a1835-911e-4b7f-eb1a-4406b377b0fe"
   },
   "outputs": [
    {
     "data": {
      "text/plain": [
       "(68, 4)"
      ]
     },
     "execution_count": 15,
     "metadata": {
      "tags": []
     },
     "output_type": "execute_result"
    }
   ],
   "source": [
    "relevant_2019.shape"
   ]
  },
  {
   "cell_type": "code",
   "execution_count": null,
   "metadata": {
    "colab": {
     "base_uri": "https://localhost:8080/",
     "height": 105
    },
    "id": "VPcML9fBPf10",
    "outputId": "765e49cb-9937-46f3-8941-c396b5692143"
   },
   "outputs": [
    {
     "data": {
      "text/plain": [
       "Degree                                      2\n",
       "Universities conducting the courses         2\n",
       "Employment Rate (%)                         2\n",
       "Median Monthly Gross Starting Salary ($)    2\n",
       "dtype: int64"
      ]
     },
     "execution_count": 16,
     "metadata": {
      "tags": []
     },
     "output_type": "execute_result"
    }
   ],
   "source": [
    "relevant_2019.isnull().sum()"
   ]
  },
  {
   "cell_type": "code",
   "execution_count": null,
   "metadata": {
    "colab": {
     "base_uri": "https://localhost:8080/",
     "height": 105
    },
    "id": "H2ueLeXnQHDG",
    "outputId": "ca337752-6c28-488a-c8d8-1adb5a24a951"
   },
   "outputs": [
    {
     "name": "stdout",
     "output_type": "stream",
     "text": [
      "   Degree  ... Median Monthly Gross Starting Salary ($)\n",
      "66    NaN  ...                                      NaN\n",
      "67    NaN  ...                                      NaN\n",
      "\n",
      "[2 rows x 4 columns]\n"
     ]
    }
   ],
   "source": [
    "df_null = relevant_2019[relevant_2019.isna().any(axis=1)]\n",
    "print (df_null)"
   ]
  },
  {
   "cell_type": "code",
   "execution_count": null,
   "metadata": {
    "colab": {
     "base_uri": "https://localhost:8080/",
     "height": 34
    },
    "id": "nEeTWvoDQMj4",
    "outputId": "21cda094-5bed-476c-abae-d7409388ce3a"
   },
   "outputs": [
    {
     "data": {
      "text/plain": [
       "(66, 4)"
      ]
     },
     "execution_count": 18,
     "metadata": {
      "tags": []
     },
     "output_type": "execute_result"
    }
   ],
   "source": [
    "relevant_df = relevant_2019.dropna()\n",
    "relevant_df.shape"
   ]
  },
  {
   "cell_type": "code",
   "execution_count": null,
   "metadata": {
    "colab": {
     "base_uri": "https://localhost:8080/",
     "height": 177
    },
    "id": "62D-bUygQWY6",
    "outputId": "9c9ce6ae-e706-4f99-889a-27cf737ece35"
   },
   "outputs": [
    {
     "name": "stderr",
     "output_type": "stream",
     "text": [
      "/usr/local/lib/python3.6/dist-packages/pandas/core/frame.py:4303: SettingWithCopyWarning: \n",
      "A value is trying to be set on a copy of a slice from a DataFrame\n",
      "\n",
      "See the caveats in the documentation: https://pandas.pydata.org/pandas-docs/stable/user_guide/indexing.html#returning-a-view-versus-a-copy\n",
      "  errors=errors,\n"
     ]
    },
    {
     "data": {
      "text/plain": [
       "Index(['degree', 'university', 'employment_rate_overall',\n",
       "       'gross_monthly_median'],\n",
       "      dtype='object')"
      ]
     },
     "execution_count": 19,
     "metadata": {
      "tags": []
     },
     "output_type": "execute_result"
    }
   ],
   "source": [
    "relevant_df.rename(columns = {'Universities conducting the courses':'university', 'Degree':'degree', \n",
    "                              'Employment Rate (%)':'employment_rate_overall', 'Median Monthly Gross Starting Salary ($)': 'gross_monthly_median'}, inplace = True) \n",
    "relevant_df.columns"
   ]
  },
  {
   "cell_type": "code",
   "execution_count": null,
   "metadata": {
    "colab": {
     "base_uri": "https://localhost:8080/",
     "height": 34
    },
    "id": "yvOSccpzQXi2",
    "outputId": "9efa6261-54b7-445b-853e-7ec62cfcc188"
   },
   "outputs": [
    {
     "data": {
      "text/plain": [
       "array(['NUS', 'NTU', 'SUSS', 'SMU'], dtype=object)"
      ]
     },
     "execution_count": 20,
     "metadata": {
      "tags": []
     },
     "output_type": "execute_result"
    }
   ],
   "source": [
    "relevant_df['university'].unique()"
   ]
  },
  {
   "cell_type": "code",
   "execution_count": null,
   "metadata": {
    "colab": {
     "base_uri": "https://localhost:8080/",
     "height": 494
    },
    "id": "iehXO1AzQbga",
    "outputId": "c48ed265-799b-4525-d4c5-98b97a0e3832"
   },
   "outputs": [
    {
     "name": "stderr",
     "output_type": "stream",
     "text": [
      "/usr/local/lib/python3.6/dist-packages/ipykernel_launcher.py:11: SettingWithCopyWarning: \n",
      "A value is trying to be set on a copy of a slice from a DataFrame.\n",
      "Try using .loc[row_indexer,col_indexer] = value instead\n",
      "\n",
      "See the caveats in the documentation: https://pandas.pydata.org/pandas-docs/stable/user_guide/indexing.html#returning-a-view-versus-a-copy\n",
      "  # This is added back by InteractiveShellApp.init_path()\n"
     ]
    },
    {
     "data": {
      "text/html": [
       "<div>\n",
       "<style scoped>\n",
       "    .dataframe tbody tr th:only-of-type {\n",
       "        vertical-align: middle;\n",
       "    }\n",
       "\n",
       "    .dataframe tbody tr th {\n",
       "        vertical-align: top;\n",
       "    }\n",
       "\n",
       "    .dataframe thead th {\n",
       "        text-align: right;\n",
       "    }\n",
       "</style>\n",
       "<table border=\"1\" class=\"dataframe\">\n",
       "  <thead>\n",
       "    <tr style=\"text-align: right;\">\n",
       "      <th></th>\n",
       "      <th>degree</th>\n",
       "      <th>university</th>\n",
       "      <th>employment_rate_overall</th>\n",
       "      <th>gross_monthly_median</th>\n",
       "    </tr>\n",
       "  </thead>\n",
       "  <tbody>\n",
       "    <tr>\n",
       "      <th>0</th>\n",
       "      <td>Bachelor of Arts (Honours)</td>\n",
       "      <td>National University of Singapore</td>\n",
       "      <td>68.2</td>\n",
       "      <td>3500.0</td>\n",
       "    </tr>\n",
       "    <tr>\n",
       "      <th>1</th>\n",
       "      <td>Bachelor of Communication Studies (Honours)</td>\n",
       "      <td>Nanyang Technological University</td>\n",
       "      <td>69.4</td>\n",
       "      <td>3200.0</td>\n",
       "    </tr>\n",
       "    <tr>\n",
       "      <th>2</th>\n",
       "      <td>Bachelor of Fine Arts (Arts, Design &amp; Media)</td>\n",
       "      <td>Nanyang Technological University</td>\n",
       "      <td>50.9</td>\n",
       "      <td>3000.0</td>\n",
       "    </tr>\n",
       "    <tr>\n",
       "      <th>3</th>\n",
       "      <td>Bachelor of Science (Project &amp; Facilities Mana...</td>\n",
       "      <td>National University of Singapore</td>\n",
       "      <td>80.6</td>\n",
       "      <td>3155.0</td>\n",
       "    </tr>\n",
       "    <tr>\n",
       "      <th>4</th>\n",
       "      <td>Bachelor of Science (Real Estate)</td>\n",
       "      <td>National University of Singapore</td>\n",
       "      <td>89.6</td>\n",
       "      <td>3400.0</td>\n",
       "    </tr>\n",
       "  </tbody>\n",
       "</table>\n",
       "</div>"
      ],
      "text/plain": [
       "                                              degree  ... gross_monthly_median\n",
       "0                         Bachelor of Arts (Honours)  ...               3500.0\n",
       "1        Bachelor of Communication Studies (Honours)  ...               3200.0\n",
       "2       Bachelor of Fine Arts (Arts, Design & Media)  ...               3000.0\n",
       "3  Bachelor of Science (Project & Facilities Mana...  ...               3155.0\n",
       "4                  Bachelor of Science (Real Estate)  ...               3400.0\n",
       "\n",
       "[5 rows x 4 columns]"
      ]
     },
     "execution_count": 21,
     "metadata": {
      "tags": []
     },
     "output_type": "execute_result"
    }
   ],
   "source": [
    "def uni_name(university):\n",
    "    if university == 'NUS':\n",
    "        return 'National University of Singapore'\n",
    "    elif university =='NTU':\n",
    "        return 'Nanyang Technological University'\n",
    "    elif university == 'SMU':\n",
    "        return 'Singapore Management University'\n",
    "    else :\n",
    "        return 'Singapore University of Social Sciences'\n",
    "    \n",
    "relevant_df['university'] = relevant_df['university'].apply(uni_name)\n",
    "relevant_df.head()"
   ]
  },
  {
   "cell_type": "code",
   "execution_count": null,
   "metadata": {
    "colab": {
     "base_uri": "https://localhost:8080/",
     "height": 356
    },
    "id": "xJVvaAWGQiMh",
    "outputId": "149fde5c-404d-4901-e75f-026af699a240"
   },
   "outputs": [
    {
     "data": {
      "text/html": [
       "<div>\n",
       "<style scoped>\n",
       "    .dataframe tbody tr th:only-of-type {\n",
       "        vertical-align: middle;\n",
       "    }\n",
       "\n",
       "    .dataframe tbody tr th {\n",
       "        vertical-align: top;\n",
       "    }\n",
       "\n",
       "    .dataframe thead th {\n",
       "        text-align: right;\n",
       "    }\n",
       "</style>\n",
       "<table border=\"1\" class=\"dataframe\">\n",
       "  <thead>\n",
       "    <tr style=\"text-align: right;\">\n",
       "      <th></th>\n",
       "      <th>University</th>\n",
       "      <th>Degree</th>\n",
       "      <th>Full-Time Permanent Employment (%)</th>\n",
       "      <th>Median Gross Monthly Starting Salary ($)</th>\n",
       "    </tr>\n",
       "  </thead>\n",
       "  <tbody>\n",
       "    <tr>\n",
       "      <th>0</th>\n",
       "      <td>NaN</td>\n",
       "      <td>NaN</td>\n",
       "      <td>NaN</td>\n",
       "      <td>NaN</td>\n",
       "    </tr>\n",
       "    <tr>\n",
       "      <th>1</th>\n",
       "      <td>Singapore University of Technology and  Design</td>\n",
       "      <td>Bachelor of Engineering (Engineering Product D...</td>\n",
       "      <td>80.2</td>\n",
       "      <td>4000.0</td>\n",
       "    </tr>\n",
       "    <tr>\n",
       "      <th>2</th>\n",
       "      <td>Singapore University of Technology and  Design</td>\n",
       "      <td>Bachelor of Engineering (Engineering Systems a...</td>\n",
       "      <td>87.3</td>\n",
       "      <td>4000.0</td>\n",
       "    </tr>\n",
       "    <tr>\n",
       "      <th>3</th>\n",
       "      <td>Singapore University of Technology and  Design</td>\n",
       "      <td>Bachelor of Engineering (Information Systems T...</td>\n",
       "      <td>85.7</td>\n",
       "      <td>4400.0</td>\n",
       "    </tr>\n",
       "  </tbody>\n",
       "</table>\n",
       "</div>"
      ],
      "text/plain": [
       "                                       University  ... Median Gross Monthly Starting Salary ($)\n",
       "0                                             NaN  ...                                      NaN\n",
       "1  Singapore University of Technology and  Design  ...                                   4000.0\n",
       "2  Singapore University of Technology and  Design  ...                                   4000.0\n",
       "3  Singapore University of Technology and  Design  ...                                   4400.0\n",
       "\n",
       "[4 rows x 4 columns]"
      ]
     },
     "execution_count": 22,
     "metadata": {
      "tags": []
     },
     "output_type": "execute_result"
    }
   ],
   "source": [
    "sutd_2019 = pd.read_excel('SUTD 2019 Graduate Employment Rate & Starting Salary.xlsx', header = 3)\n",
    "sutd_2019.head()"
   ]
  },
  {
   "cell_type": "code",
   "execution_count": null,
   "metadata": {
    "colab": {
     "base_uri": "https://localhost:8080/",
     "height": 70
    },
    "id": "MvdkmtErREn3",
    "outputId": "d4818f13-0a76-437c-83f0-c3b4724db44d"
   },
   "outputs": [
    {
     "data": {
      "text/plain": [
       "Index(['university', 'degree', 'employment_rate_overall',\n",
       "       'gross_monthly_median'],\n",
       "      dtype='object')"
      ]
     },
     "execution_count": 23,
     "metadata": {
      "tags": []
     },
     "output_type": "execute_result"
    }
   ],
   "source": [
    "sutd_2019.rename(columns = {'Degree':'degree','University':'university','Full-Time Permanent Employment (%)':'employment_rate_overall', 'Median Gross Monthly Starting Salary ($)': 'gross_monthly_median'}, inplace = True) \n",
    "sutd_2019.columns"
   ]
  },
  {
   "cell_type": "code",
   "execution_count": null,
   "metadata": {
    "colab": {
     "base_uri": "https://localhost:8080/",
     "height": 34
    },
    "id": "CFZCm5-xRNf_",
    "outputId": "4e3161e1-fbce-4953-dbc4-99b1337654c8"
   },
   "outputs": [
    {
     "data": {
      "text/plain": [
       "(4, 4)"
      ]
     },
     "execution_count": 24,
     "metadata": {
      "tags": []
     },
     "output_type": "execute_result"
    }
   ],
   "source": [
    "sutd_2019.shape"
   ]
  },
  {
   "cell_type": "code",
   "execution_count": null,
   "metadata": {
    "colab": {
     "base_uri": "https://localhost:8080/",
     "height": 369
    },
    "id": "Ce1aTsgGRR9z",
    "outputId": "b03abff1-5b63-47f7-a995-eda233174197"
   },
   "outputs": [
    {
     "data": {
      "text/html": [
       "<div>\n",
       "<style scoped>\n",
       "    .dataframe tbody tr th:only-of-type {\n",
       "        vertical-align: middle;\n",
       "    }\n",
       "\n",
       "    .dataframe tbody tr th {\n",
       "        vertical-align: top;\n",
       "    }\n",
       "\n",
       "    .dataframe thead th {\n",
       "        text-align: right;\n",
       "    }\n",
       "</style>\n",
       "<table border=\"1\" class=\"dataframe\">\n",
       "  <thead>\n",
       "    <tr style=\"text-align: right;\">\n",
       "      <th></th>\n",
       "      <th>University</th>\n",
       "      <th>Degree</th>\n",
       "      <th>Full-Time Permanent Employment (%)</th>\n",
       "      <th>Median Gross Monthly Starting Salary ($)</th>\n",
       "    </tr>\n",
       "  </thead>\n",
       "  <tbody>\n",
       "    <tr>\n",
       "      <th>0</th>\n",
       "      <td>NaN</td>\n",
       "      <td>NaN</td>\n",
       "      <td>NaN</td>\n",
       "      <td>NaN</td>\n",
       "    </tr>\n",
       "    <tr>\n",
       "      <th>1</th>\n",
       "      <td>Singapore Institute of Technology</td>\n",
       "      <td>DigiPen Institute of Technology</td>\n",
       "      <td>NaN</td>\n",
       "      <td>NaN</td>\n",
       "    </tr>\n",
       "    <tr>\n",
       "      <th>2</th>\n",
       "      <td>Singapore Institute of Technology</td>\n",
       "      <td>Bachelor of Science in Computer Science in Rea...</td>\n",
       "      <td>96.8</td>\n",
       "      <td>s</td>\n",
       "    </tr>\n",
       "    <tr>\n",
       "      <th>3</th>\n",
       "      <td>Singapore Institute of Technology</td>\n",
       "      <td>The Glasgow School of Art</td>\n",
       "      <td>NaN</td>\n",
       "      <td>NaN</td>\n",
       "    </tr>\n",
       "    <tr>\n",
       "      <th>4</th>\n",
       "      <td>Singapore Institute of Technology</td>\n",
       "      <td>Bachelor of Arts with Honours in Interior Design</td>\n",
       "      <td>76.9</td>\n",
       "      <td>2775</td>\n",
       "    </tr>\n",
       "  </tbody>\n",
       "</table>\n",
       "</div>"
      ],
      "text/plain": [
       "                          University  ... Median Gross Monthly Starting Salary ($)\n",
       "0                                NaN  ...                                      NaN\n",
       "1  Singapore Institute of Technology  ...                                      NaN\n",
       "2  Singapore Institute of Technology  ...                                        s\n",
       "3  Singapore Institute of Technology  ...                                      NaN\n",
       "4  Singapore Institute of Technology  ...                                     2775\n",
       "\n",
       "[5 rows x 4 columns]"
      ]
     },
     "execution_count": 25,
     "metadata": {
      "tags": []
     },
     "output_type": "execute_result"
    }
   ],
   "source": [
    "sit_2019 = pd.read_excel('SIT 2019 Graduate Employment Rate & Starting Salary.xlsx', header = 3)\n",
    "sit_2019.head()"
   ]
  },
  {
   "cell_type": "code",
   "execution_count": null,
   "metadata": {
    "colab": {
     "base_uri": "https://localhost:8080/",
     "height": 70
    },
    "id": "rTbRJgClRXm9",
    "outputId": "f16cef40-a03b-4394-94f5-8bf1c7fa0d8a"
   },
   "outputs": [
    {
     "data": {
      "text/plain": [
       "Index(['university', 'degree', 'employment_rate_overall',\n",
       "       'gross_monthly_median'],\n",
       "      dtype='object')"
      ]
     },
     "execution_count": 26,
     "metadata": {
      "tags": []
     },
     "output_type": "execute_result"
    }
   ],
   "source": [
    "sit_2019.rename(columns = {'Degree':'degree','University':'university',  \n",
    "                              'Full-Time Permanent Employment (%)':'employment_rate_overall', 'Median Gross Monthly Starting Salary ($)': 'gross_monthly_median'}, inplace = True) \n",
    "sit_2019.columns"
   ]
  },
  {
   "cell_type": "code",
   "execution_count": null,
   "metadata": {
    "colab": {
     "base_uri": "https://localhost:8080/",
     "height": 34
    },
    "id": "4HKkm6M-Rdnz",
    "outputId": "23fbf42b-631f-4e5a-f8a2-57500407dbf2"
   },
   "outputs": [
    {
     "data": {
      "text/plain": [
       "(30, 4)"
      ]
     },
     "execution_count": 27,
     "metadata": {
      "tags": []
     },
     "output_type": "execute_result"
    }
   ],
   "source": [
    "sit_2019.shape"
   ]
  },
  {
   "cell_type": "code",
   "execution_count": null,
   "metadata": {
    "colab": {
     "base_uri": "https://localhost:8080/",
     "height": 369
    },
    "id": "8M1wVuRHRjEf",
    "outputId": "c980462e-f43f-4788-b150-836c3bd97aeb"
   },
   "outputs": [
    {
     "data": {
      "text/html": [
       "<div>\n",
       "<style scoped>\n",
       "    .dataframe tbody tr th:only-of-type {\n",
       "        vertical-align: middle;\n",
       "    }\n",
       "\n",
       "    .dataframe tbody tr th {\n",
       "        vertical-align: top;\n",
       "    }\n",
       "\n",
       "    .dataframe thead th {\n",
       "        text-align: right;\n",
       "    }\n",
       "</style>\n",
       "<table border=\"1\" class=\"dataframe\">\n",
       "  <thead>\n",
       "    <tr style=\"text-align: right;\">\n",
       "      <th></th>\n",
       "      <th>degree</th>\n",
       "      <th>university</th>\n",
       "      <th>employment_rate_overall</th>\n",
       "      <th>gross_monthly_median</th>\n",
       "    </tr>\n",
       "  </thead>\n",
       "  <tbody>\n",
       "    <tr>\n",
       "      <th>0</th>\n",
       "      <td>Bachelor of Arts (Honours)</td>\n",
       "      <td>National University of Singapore</td>\n",
       "      <td>68.2</td>\n",
       "      <td>3500</td>\n",
       "    </tr>\n",
       "    <tr>\n",
       "      <th>1</th>\n",
       "      <td>Bachelor of Communication Studies (Honours)</td>\n",
       "      <td>Nanyang Technological University</td>\n",
       "      <td>69.4</td>\n",
       "      <td>3200</td>\n",
       "    </tr>\n",
       "    <tr>\n",
       "      <th>2</th>\n",
       "      <td>Bachelor of Fine Arts (Arts, Design &amp; Media)</td>\n",
       "      <td>Nanyang Technological University</td>\n",
       "      <td>50.9</td>\n",
       "      <td>3000</td>\n",
       "    </tr>\n",
       "    <tr>\n",
       "      <th>3</th>\n",
       "      <td>Bachelor of Science (Project &amp; Facilities Mana...</td>\n",
       "      <td>National University of Singapore</td>\n",
       "      <td>80.6</td>\n",
       "      <td>3155</td>\n",
       "    </tr>\n",
       "    <tr>\n",
       "      <th>4</th>\n",
       "      <td>Bachelor of Science (Real Estate)</td>\n",
       "      <td>National University of Singapore</td>\n",
       "      <td>89.6</td>\n",
       "      <td>3400</td>\n",
       "    </tr>\n",
       "  </tbody>\n",
       "</table>\n",
       "</div>"
      ],
      "text/plain": [
       "                                              degree  ... gross_monthly_median\n",
       "0                         Bachelor of Arts (Honours)  ...                 3500\n",
       "1        Bachelor of Communication Studies (Honours)  ...                 3200\n",
       "2       Bachelor of Fine Arts (Arts, Design & Media)  ...                 3000\n",
       "3  Bachelor of Science (Project & Facilities Mana...  ...                 3155\n",
       "4                  Bachelor of Science (Real Estate)  ...                 3400\n",
       "\n",
       "[5 rows x 4 columns]"
      ]
     },
     "execution_count": 28,
     "metadata": {
      "tags": []
     },
     "output_type": "execute_result"
    }
   ],
   "source": [
    "all_uni_2019 = pd.concat([relevant_df, sutd_2019, sit_2019], axis = 0, sort=False)\n",
    "all_uni_2019.head()"
   ]
  },
  {
   "cell_type": "code",
   "execution_count": null,
   "metadata": {
    "colab": {
     "base_uri": "https://localhost:8080/",
     "height": 34
    },
    "id": "Je2rmNtiSEjJ",
    "outputId": "f1c89e2b-bfe9-46bc-84c6-9db89f697621"
   },
   "outputs": [
    {
     "data": {
      "text/plain": [
       "(100, 4)"
      ]
     },
     "execution_count": 29,
     "metadata": {
      "tags": []
     },
     "output_type": "execute_result"
    }
   ],
   "source": [
    "all_uni_2019.shape"
   ]
  },
  {
   "cell_type": "code",
   "execution_count": null,
   "metadata": {
    "colab": {
     "base_uri": "https://localhost:8080/",
     "height": 105
    },
    "id": "awuw_SMISL78",
    "outputId": "b4550cb0-e4cd-4b0d-fffa-75021c3dd023"
   },
   "outputs": [
    {
     "data": {
      "text/plain": [
       "degree                      2\n",
       "university                  2\n",
       "employment_rate_overall    12\n",
       "gross_monthly_median       12\n",
       "dtype: int64"
      ]
     },
     "execution_count": 30,
     "metadata": {
      "tags": []
     },
     "output_type": "execute_result"
    }
   ],
   "source": [
    "all_uni_2019.isnull().sum()"
   ]
  },
  {
   "cell_type": "code",
   "execution_count": null,
   "metadata": {
    "colab": {
     "base_uri": "https://localhost:8080/",
     "height": 280
    },
    "id": "jIZoT0JjST1_",
    "outputId": "eecbf561-f99d-4958-bb68-e3e9c5d0c9ba"
   },
   "outputs": [
    {
     "name": "stdout",
     "output_type": "stream",
     "text": [
      "                                               degree  ... gross_monthly_median\n",
      "0                                                 NaN  ...                  NaN\n",
      "0                                                 NaN  ...                  NaN\n",
      "1                     DigiPen Institute of Technology  ...                  NaN\n",
      "3                           The Glasgow School of Art  ...                  NaN\n",
      "5                                Newcastle University  ...                  NaN\n",
      "11            Singapore Institute of Technology (SIT)  ...                  NaN\n",
      "16  SIT-Trinity College Dublin / Trinity College D...  ...                  NaN\n",
      "18                          SIT-University of Glasgow  ...                  NaN\n",
      "20                     Technical University of Munich  ...                  NaN\n",
      "22                              University of Glasgow  ...                  NaN\n",
      "26                            University of Liverpool  ...                  NaN\n",
      "28                                   Wheelock College  ...                  NaN\n",
      "\n",
      "[12 rows x 4 columns]\n"
     ]
    }
   ],
   "source": [
    "df_null = all_uni_2019[all_uni_2019.isna().any(axis=1)]\n",
    "print (df_null)"
   ]
  },
  {
   "cell_type": "code",
   "execution_count": null,
   "metadata": {
    "colab": {
     "base_uri": "https://localhost:8080/",
     "height": 34
    },
    "id": "XErx1vHnSVvH",
    "outputId": "bf021662-cb2f-4e5b-9c8d-dedee5b61cd6"
   },
   "outputs": [
    {
     "data": {
      "text/plain": [
       "(88, 4)"
      ]
     },
     "execution_count": 32,
     "metadata": {
      "tags": []
     },
     "output_type": "execute_result"
    }
   ],
   "source": [
    "final_2019 = all_uni_2019.dropna()\n",
    "final_2019.shape"
   ]
  },
  {
   "cell_type": "code",
   "execution_count": null,
   "metadata": {
    "colab": {
     "base_uri": "https://localhost:8080/",
     "height": 562
    },
    "id": "iSR_pKbKSb9T",
    "outputId": "a675dacb-816e-438b-c7f2-f595a1378ca0"
   },
   "outputs": [
    {
     "name": "stderr",
     "output_type": "stream",
     "text": [
      "/usr/local/lib/python3.6/dist-packages/ipykernel_launcher.py:1: SettingWithCopyWarning: \n",
      "A value is trying to be set on a copy of a slice from a DataFrame.\n",
      "Try using .loc[row_indexer,col_indexer] = value instead\n",
      "\n",
      "See the caveats in the documentation: https://pandas.pydata.org/pandas-docs/stable/user_guide/indexing.html#returning-a-view-versus-a-copy\n",
      "  \"\"\"Entry point for launching an IPython kernel.\n"
     ]
    },
    {
     "data": {
      "text/html": [
       "<div>\n",
       "<style scoped>\n",
       "    .dataframe tbody tr th:only-of-type {\n",
       "        vertical-align: middle;\n",
       "    }\n",
       "\n",
       "    .dataframe tbody tr th {\n",
       "        vertical-align: top;\n",
       "    }\n",
       "\n",
       "    .dataframe thead th {\n",
       "        text-align: right;\n",
       "    }\n",
       "</style>\n",
       "<table border=\"1\" class=\"dataframe\">\n",
       "  <thead>\n",
       "    <tr style=\"text-align: right;\">\n",
       "      <th></th>\n",
       "      <th>degree</th>\n",
       "      <th>university</th>\n",
       "      <th>employment_rate_overall</th>\n",
       "      <th>gross_monthly_median</th>\n",
       "      <th>year</th>\n",
       "    </tr>\n",
       "  </thead>\n",
       "  <tbody>\n",
       "    <tr>\n",
       "      <th>0</th>\n",
       "      <td>Bachelor of Arts (Honours)</td>\n",
       "      <td>National University of Singapore</td>\n",
       "      <td>68.2</td>\n",
       "      <td>3500</td>\n",
       "      <td>2019</td>\n",
       "    </tr>\n",
       "    <tr>\n",
       "      <th>1</th>\n",
       "      <td>Bachelor of Communication Studies (Honours)</td>\n",
       "      <td>Nanyang Technological University</td>\n",
       "      <td>69.4</td>\n",
       "      <td>3200</td>\n",
       "      <td>2019</td>\n",
       "    </tr>\n",
       "    <tr>\n",
       "      <th>2</th>\n",
       "      <td>Bachelor of Fine Arts (Arts, Design &amp; Media)</td>\n",
       "      <td>Nanyang Technological University</td>\n",
       "      <td>50.9</td>\n",
       "      <td>3000</td>\n",
       "      <td>2019</td>\n",
       "    </tr>\n",
       "    <tr>\n",
       "      <th>3</th>\n",
       "      <td>Bachelor of Science (Project &amp; Facilities Mana...</td>\n",
       "      <td>National University of Singapore</td>\n",
       "      <td>80.6</td>\n",
       "      <td>3155</td>\n",
       "      <td>2019</td>\n",
       "    </tr>\n",
       "    <tr>\n",
       "      <th>4</th>\n",
       "      <td>Bachelor of Science (Real Estate)</td>\n",
       "      <td>National University of Singapore</td>\n",
       "      <td>89.6</td>\n",
       "      <td>3400</td>\n",
       "      <td>2019</td>\n",
       "    </tr>\n",
       "  </tbody>\n",
       "</table>\n",
       "</div>"
      ],
      "text/plain": [
       "                                              degree  ...  year\n",
       "0                         Bachelor of Arts (Honours)  ...  2019\n",
       "1        Bachelor of Communication Studies (Honours)  ...  2019\n",
       "2       Bachelor of Fine Arts (Arts, Design & Media)  ...  2019\n",
       "3  Bachelor of Science (Project & Facilities Mana...  ...  2019\n",
       "4                  Bachelor of Science (Real Estate)  ...  2019\n",
       "\n",
       "[5 rows x 5 columns]"
      ]
     },
     "execution_count": 33,
     "metadata": {
      "tags": []
     },
     "output_type": "execute_result"
    }
   ],
   "source": [
    "final_2019['year'] = '2019'\n",
    "final_2019.head()"
   ]
  },
  {
   "cell_type": "code",
   "execution_count": null,
   "metadata": {
    "colab": {
     "base_uri": "https://localhost:8080/",
     "height": 371
    },
    "id": "NxlxaYzPSYUB",
    "outputId": "91a94b48-a2c7-44b1-fd84-558be9c0773f"
   },
   "outputs": [
    {
     "name": "stderr",
     "output_type": "stream",
     "text": [
      "/usr/local/lib/python3.6/dist-packages/pandas/core/frame.py:3065: SettingWithCopyWarning: \n",
      "A value is trying to be set on a copy of a slice from a DataFrame.\n",
      "Try using .loc[row_indexer,col_indexer] = value instead\n",
      "\n",
      "See the caveats in the documentation: https://pandas.pydata.org/pandas-docs/stable/user_guide/indexing.html#returning-a-view-versus-a-copy\n",
      "  self[k1] = value[k2]\n"
     ]
    },
    {
     "data": {
      "text/plain": [
       "year                           int64\n",
       "university                    object\n",
       "school                        object\n",
       "degree                        object\n",
       "employment_rate_overall      float64\n",
       "employment_rate_ft_perm      float64\n",
       "basic_monthly_mean           float64\n",
       "basic_monthly_median         float64\n",
       "gross_monthly_mean           float64\n",
       "gross_monthly_median         float64\n",
       "gross_mthly_25_percentile    float64\n",
       "gross_mthly_75_percentile    float64\n",
       "dtype: object"
      ]
     },
     "execution_count": 34,
     "metadata": {
      "tags": []
     },
     "output_type": "execute_result"
    }
   ],
   "source": [
    "columns_to_select = ['employment_rate_overall', 'gross_monthly_median']\n",
    "final_2019[columns_to_select] = final_2019[columns_to_select].apply(pd.to_numeric, errors='coerce', axis=1)\n",
    "df.dtypes"
   ]
  },
  {
   "cell_type": "code",
   "execution_count": null,
   "metadata": {
    "colab": {
     "base_uri": "https://localhost:8080/",
     "height": 1000
    },
    "id": "8vvUqLqrUNDl",
    "outputId": "1d4676a1-905c-4da3-e0db-a4d4d30214d9"
   },
   "outputs": [
    {
     "data": {
      "text/html": [
       "<div>\n",
       "<style scoped>\n",
       "    .dataframe tbody tr th:only-of-type {\n",
       "        vertical-align: middle;\n",
       "    }\n",
       "\n",
       "    .dataframe tbody tr th {\n",
       "        vertical-align: top;\n",
       "    }\n",
       "\n",
       "    .dataframe thead th {\n",
       "        text-align: right;\n",
       "    }\n",
       "</style>\n",
       "<table border=\"1\" class=\"dataframe\">\n",
       "  <thead>\n",
       "    <tr style=\"text-align: right;\">\n",
       "      <th></th>\n",
       "      <th>year</th>\n",
       "      <th>university</th>\n",
       "      <th>school</th>\n",
       "      <th>degree</th>\n",
       "      <th>employment_rate_overall</th>\n",
       "      <th>employment_rate_ft_perm</th>\n",
       "      <th>basic_monthly_mean</th>\n",
       "      <th>basic_monthly_median</th>\n",
       "      <th>gross_monthly_mean</th>\n",
       "      <th>gross_monthly_median</th>\n",
       "      <th>gross_mthly_25_percentile</th>\n",
       "      <th>gross_mthly_75_percentile</th>\n",
       "    </tr>\n",
       "  </thead>\n",
       "  <tbody>\n",
       "    <tr>\n",
       "      <th>0</th>\n",
       "      <td>2013</td>\n",
       "      <td>Nanyang Technological University</td>\n",
       "      <td>College of Business (Nanyang Business School)</td>\n",
       "      <td>Accountancy and Business</td>\n",
       "      <td>97.4</td>\n",
       "      <td>96.1</td>\n",
       "      <td>3701.0</td>\n",
       "      <td>3200.0</td>\n",
       "      <td>3727.0</td>\n",
       "      <td>3350.0</td>\n",
       "      <td>2900.0</td>\n",
       "      <td>4000.0</td>\n",
       "    </tr>\n",
       "    <tr>\n",
       "      <th>1</th>\n",
       "      <td>2013</td>\n",
       "      <td>Nanyang Technological University</td>\n",
       "      <td>College of Business (Nanyang Business School)</td>\n",
       "      <td>Accountancy (3-yr direct Honours Programme)</td>\n",
       "      <td>97.1</td>\n",
       "      <td>95.7</td>\n",
       "      <td>2850.0</td>\n",
       "      <td>2700.0</td>\n",
       "      <td>2938.0</td>\n",
       "      <td>2700.0</td>\n",
       "      <td>2700.0</td>\n",
       "      <td>2900.0</td>\n",
       "    </tr>\n",
       "    <tr>\n",
       "      <th>2</th>\n",
       "      <td>2013</td>\n",
       "      <td>Nanyang Technological University</td>\n",
       "      <td>College of Business (Nanyang Business School)</td>\n",
       "      <td>Business (3-yr direct Honours Programme)</td>\n",
       "      <td>90.9</td>\n",
       "      <td>85.7</td>\n",
       "      <td>3053.0</td>\n",
       "      <td>3000.0</td>\n",
       "      <td>3214.0</td>\n",
       "      <td>3000.0</td>\n",
       "      <td>2700.0</td>\n",
       "      <td>3500.0</td>\n",
       "    </tr>\n",
       "    <tr>\n",
       "      <th>3</th>\n",
       "      <td>2013</td>\n",
       "      <td>Nanyang Technological University</td>\n",
       "      <td>College of Business (Nanyang Business School)</td>\n",
       "      <td>Business and Computing</td>\n",
       "      <td>87.5</td>\n",
       "      <td>87.5</td>\n",
       "      <td>3557.0</td>\n",
       "      <td>3400.0</td>\n",
       "      <td>3615.0</td>\n",
       "      <td>3400.0</td>\n",
       "      <td>3000.0</td>\n",
       "      <td>4100.0</td>\n",
       "    </tr>\n",
       "    <tr>\n",
       "      <th>4</th>\n",
       "      <td>2013</td>\n",
       "      <td>Nanyang Technological University</td>\n",
       "      <td>College of Engineering</td>\n",
       "      <td>Aerospace Engineering</td>\n",
       "      <td>95.3</td>\n",
       "      <td>95.3</td>\n",
       "      <td>3494.0</td>\n",
       "      <td>3500.0</td>\n",
       "      <td>3536.0</td>\n",
       "      <td>3500.0</td>\n",
       "      <td>3100.0</td>\n",
       "      <td>3816.0</td>\n",
       "    </tr>\n",
       "    <tr>\n",
       "      <th>...</th>\n",
       "      <td>...</td>\n",
       "      <td>...</td>\n",
       "      <td>...</td>\n",
       "      <td>...</td>\n",
       "      <td>...</td>\n",
       "      <td>...</td>\n",
       "      <td>...</td>\n",
       "      <td>...</td>\n",
       "      <td>...</td>\n",
       "      <td>...</td>\n",
       "      <td>...</td>\n",
       "      <td>...</td>\n",
       "    </tr>\n",
       "    <tr>\n",
       "      <th>713</th>\n",
       "      <td>2019</td>\n",
       "      <td>Singapore Institute of Technology</td>\n",
       "      <td>NaN</td>\n",
       "      <td>Bachelor of Engineering in Mechanical Design E...</td>\n",
       "      <td>90.6</td>\n",
       "      <td>NaN</td>\n",
       "      <td>NaN</td>\n",
       "      <td>NaN</td>\n",
       "      <td>NaN</td>\n",
       "      <td>3500.0</td>\n",
       "      <td>NaN</td>\n",
       "      <td>NaN</td>\n",
       "    </tr>\n",
       "    <tr>\n",
       "      <th>714</th>\n",
       "      <td>2019</td>\n",
       "      <td>Singapore Institute of Technology</td>\n",
       "      <td>NaN</td>\n",
       "      <td>Bachelor Of Engineering In Mechatronics (Honours)</td>\n",
       "      <td>87.3</td>\n",
       "      <td>NaN</td>\n",
       "      <td>NaN</td>\n",
       "      <td>NaN</td>\n",
       "      <td>NaN</td>\n",
       "      <td>3600.0</td>\n",
       "      <td>NaN</td>\n",
       "      <td>NaN</td>\n",
       "    </tr>\n",
       "    <tr>\n",
       "      <th>715</th>\n",
       "      <td>2019</td>\n",
       "      <td>Singapore Institute of Technology</td>\n",
       "      <td>NaN</td>\n",
       "      <td>Bachelor of Science in Computing Science (Hono...</td>\n",
       "      <td>89.3</td>\n",
       "      <td>NaN</td>\n",
       "      <td>NaN</td>\n",
       "      <td>NaN</td>\n",
       "      <td>NaN</td>\n",
       "      <td>4000.0</td>\n",
       "      <td>NaN</td>\n",
       "      <td>NaN</td>\n",
       "    </tr>\n",
       "    <tr>\n",
       "      <th>716</th>\n",
       "      <td>2019</td>\n",
       "      <td>Singapore Institute of Technology</td>\n",
       "      <td>NaN</td>\n",
       "      <td>Bachelor of Arts with Honours in Criminology a...</td>\n",
       "      <td>74.2</td>\n",
       "      <td>NaN</td>\n",
       "      <td>NaN</td>\n",
       "      <td>NaN</td>\n",
       "      <td>NaN</td>\n",
       "      <td>3729.0</td>\n",
       "      <td>NaN</td>\n",
       "      <td>NaN</td>\n",
       "    </tr>\n",
       "    <tr>\n",
       "      <th>717</th>\n",
       "      <td>2019</td>\n",
       "      <td>Singapore Institute of Technology</td>\n",
       "      <td>NaN</td>\n",
       "      <td>Bachelor of Science in Early Childhood Education</td>\n",
       "      <td>98.2</td>\n",
       "      <td>NaN</td>\n",
       "      <td>NaN</td>\n",
       "      <td>NaN</td>\n",
       "      <td>NaN</td>\n",
       "      <td>2925.0</td>\n",
       "      <td>NaN</td>\n",
       "      <td>NaN</td>\n",
       "    </tr>\n",
       "  </tbody>\n",
       "</table>\n",
       "<p>718 rows × 12 columns</p>\n",
       "</div>"
      ],
      "text/plain": [
       "     year  ... gross_mthly_75_percentile\n",
       "0    2013  ...                    4000.0\n",
       "1    2013  ...                    2900.0\n",
       "2    2013  ...                    3500.0\n",
       "3    2013  ...                    4100.0\n",
       "4    2013  ...                    3816.0\n",
       "..    ...  ...                       ...\n",
       "713  2019  ...                       NaN\n",
       "714  2019  ...                       NaN\n",
       "715  2019  ...                       NaN\n",
       "716  2019  ...                       NaN\n",
       "717  2019  ...                       NaN\n",
       "\n",
       "[718 rows x 12 columns]"
      ]
     },
     "execution_count": 52,
     "metadata": {
      "tags": []
     },
     "output_type": "execute_result"
    }
   ],
   "source": [
    "new_df = pd.concat([null_removed_df, final_2019], ignore_index=True)\n",
    "new_df"
   ]
  },
  {
   "cell_type": "markdown",
   "metadata": {
    "id": "vuTluPqcjdvq"
   },
   "source": [
    "# Employment Rate and Median Salary versus Years"
   ]
  },
  {
   "cell_type": "code",
   "execution_count": null,
   "metadata": {
    "colab": {
     "base_uri": "https://localhost:8080/",
     "height": 573
    },
    "id": "JvAoq4WzV9ww",
    "outputId": "e76bcda3-a6f3-4c8b-f788-8662a9f2bf54"
   },
   "outputs": [
    {
     "data": {
      "image/png": "[encoded data removed]",
      "text/plain": [
       "<Figure size 432x288 with 1 Axes>"
      ]
     },
     "metadata": {
      "needs_background": "light",
      "tags": []
     },
     "output_type": "display_data"
    },
    {
     "data": {
      "image/png": "[encoded data removed]",
      "text/plain": [
       "<Figure size 432x288 with 1 Axes>"
      ]
     },
     "metadata": {
      "needs_background": "light",
      "tags": []
     },
     "output_type": "display_data"
    }
   ],
   "source": [
    "yeargb = new_df.groupby(new_df['year'])\n",
    "yeargb.head()\n",
    "mean = yeargb.mean()\n",
    "ax = plt.gca()\n",
    "\n",
    "mean.plot(kind='line',             \n",
    "          y='employment_rate_overall',\n",
    "          color='red',\n",
    "          ax=ax)\n",
    "\n",
    "mean.plot(kind='line',             \n",
    "                y='employment_rate_ft_perm',\n",
    "                color='blue',\n",
    "                ax=ax)                \n",
    "              \n",
    "#plt.xticks(np.arange(10,65,5))\n",
    "plt.ylabel('employment rate')\n",
    "plt.yticks(np.arange(70,101,10))\n",
    "plt.title('Employment Rate from 2013-2019')\n",
    "plt.show()\n",
    "mean.plot(kind='line',\n",
    "          y='gross_monthly_median')\n",
    "\n",
    "plt.ylabel('gross median salary')\n",
    "plt.yticks(np.arange(3100,3650,50))\n",
    "plt.title('Median Salary from 2013-2018')\n",
    "plt.show()\n"
   ]
  },
  {
   "cell_type": "markdown",
   "metadata": {
    "id": "aGLbELViXx2A"
   },
   "source": [
    "Over the past couple of years we can see that the gross median salary has been increasing steadily year on year. While in 2019, employment rate dropped. "
   ]
  }
 ],
 "metadata": {
  "colab": {
   "collapsed_sections": [],
   "name": "Goh Yong Yu,Lee Hong Wei,Leonard Tay Jia Hao, Priscilla Leong - ds102-assignment.ipynb",
   "provenance": []
  },
  "kernelspec": {
   "display_name": "Python 3",
   "language": "python",
   "name": "python3"
  },
  "language_info": {
   "codemirror_mode": {
    "name": "ipython",
    "version": 3
   },
   "file_extension": ".py",
   "mimetype": "text/x-python",
   "name": "python",
   "nbconvert_exporter": "python",
   "pygments_lexer": "ipython3",
   "version": "3.7.6"
  }
 },
 "nbformat": 4,
 "nbformat_minor": 1
}
